{
 "cells": [
  {
   "cell_type": "code",
   "execution_count": 7,
   "id": "7e152e8e-7961-425c-a31a-5329dcabdea3",
   "metadata": {},
   "outputs": [
    {
     "name": "stdin",
     "output_type": "stream",
     "text": [
      "Enter a list of SMILES strings separated by commas:  CNO, CNC, CN, Nc1ccccc1\n",
      "Should we be ranking according to electrophilicity(E) or nucleophilicity(N)? N\n"
     ]
    },
    {
     "name": "stdout",
     "output_type": "stream",
     "text": [
      "{'Nc1ccccc1': 0.10525711225698411, 'CNO': 0.23716284341898616, 'CN': 0.23835523288645338, 'CNC': 0.23926808641228736}\n"
     ]
    }
   ],
   "source": [
    "from rdkit import Chem\n",
    "from rdkit.Chem import AllChem, rdDistGeom\n",
    "from morfeus import read_xyz, XTB\n",
    "\n",
    "def mol_to_xyz(smiles_list):\n",
    "    results = [] \n",
    "    \n",
    "    # Iterate over each SMILES string in the list\n",
    "    for smiles in smiles_list:\n",
    "        # SMILES to RDKit\n",
    "        mol = Chem.MolFromSmiles(smiles)\n",
    "        mol = Chem.AddHs(mol)\n",
    "        AllChem.EmbedMolecule(mol, rdDistGeom.ETKDG()) # 3D coordinates \n",
    "        num_atoms = mol.GetNumAtoms() # RDKit XYZ string\n",
    "        xyz_lines = [str(num_atoms)]\n",
    "        xyz_lines.append(smiles)\n",
    "        for atom in mol.GetAtoms():\n",
    "            symbol = atom.GetSymbol()\n",
    "            conf = mol.GetConformer()\n",
    "            pos = conf.GetAtomPosition(atom.GetIdx())\n",
    "            xyz_lines.append(f\"{symbol} {pos.x:.4f} {pos.y:.4f} {pos.z:.4f}\")\n",
    "        \n",
    "        # Append the XYZ to results list\n",
    "        results.append(\"\\n\".join(xyz_lines))\n",
    "\n",
    "    return results\n",
    "\n",
    "def process_molecules(smiles_list):\n",
    "    xyz_contents = mol_to_xyz(smiles_list)# SMILES list to XYZ \n",
    "    n_nucs = []\n",
    "    n_eles = []\n",
    "    for i, xyz_content in enumerate(xyz_contents):\n",
    "        xyz_file = f\"molecule_{i}.xyz\"  # XYZ to a file\n",
    "        with open(xyz_file, 'w') as file:\n",
    "            file.write(xyz_content)\n",
    "        \n",
    "        elements, coordinates = read_xyz(xyz_file) # Morfeus to read XYZ file\n",
    "        \n",
    "        xtb = XTB(elements, coordinates) # Create  XTB object \n",
    "        \n",
    "        electrophilicity = xtb.get_global_descriptor(\"electrophilicity\", corrected=False)\n",
    "        nucleophilicity = xtb.get_global_descriptor(\"nucleophilicity\", corrected=False)\n",
    "        fukui_electrophilicity = xtb.get_fukui(\"electrophilicity\")\n",
    "        fukui_nucleophilicity = xtb.get_fukui(\"nucleophilicity\")\n",
    "        \n",
    "def get_molecules(smiles_list):\n",
    "    xyz_contents = mol_to_xyz(smiles_list)# SMILES list to XYZ \n",
    "    n_nucs = {}\n",
    "    n_eles = {}\n",
    "    for i, xyz_content in enumerate(xyz_contents):\n",
    "        xyz_file = f\"molecule_{i}.xyz\"  # XYZ to a file\n",
    "        with open(xyz_file, 'w') as file:\n",
    "            file.write(xyz_content)\n",
    "        \n",
    "        elements, coordinates = read_xyz(xyz_file) # Morfeus to read XYZ file\n",
    "        \n",
    "        xtb = XTB(elements, coordinates) # Create  XTB object \n",
    "        \n",
    "        electrophilicity = xtb.get_global_descriptor(\"electrophilicity\", corrected=False)\n",
    "        nucleophilicity = xtb.get_global_descriptor(\"nucleophilicity\", corrected=False)\n",
    "        fukui_electrophilicity = xtb.get_fukui(\"electrophilicity\")\n",
    "        fukui_nucleophilicity = xtb.get_fukui(\"nucleophilicity\")\n",
    "\n",
    "        # Fukui electrophilicity\n",
    "        max_value_el = max(fukui_electrophilicity.values())\n",
    "        for idx, element in enumerate(elements):\n",
    "            f_e = fukui_electrophilicity.get(idx+1, 0.0)  # Default to 0.0 if the key is missing\n",
    "            if f_e == max_value_el:\n",
    "                n_eles.update({smiles_list[i]: f_e})\n",
    "\n",
    "                \n",
    "        # Fukui nucleophilicity\n",
    "        max_value_nucs = max(fukui_nucleophilicity.values())\n",
    "        for idx, element in enumerate(elements):\n",
    "            f_n = fukui_nucleophilicity.get(idx + 1, 0.0)\n",
    "            if f_n == max_value_nucs:\n",
    "                n_nucs.update({smiles_list[i] : f_n})\n",
    "\n",
    "    n_eles = dict(sorted(n_eles.items(), key=lambda item: item[1]))\n",
    "    n_nucs = dict(sorted(n_nucs.items(), key=lambda item: item[1]))\n",
    "\n",
    "    if nucl_elec == \"E\":\n",
    "        print(n_nucs) #nucleophilicity sorted\n",
    "    else:\n",
    "        print(n_eles) #electrophilicity sorted\n",
    "\n",
    "\n",
    "\n",
    "user_input = input(\"Enter a list of SMILES strings separated by commas: \")\n",
    "smiles_list_input = user_input.split(',')\n",
    "smiles_list_input = [smiles.strip() for smiles in smiles_list_input]\n",
    "\n",
    "nucl_elec = input(\"Should we be ranking according to electrophilicity(E) or nucleophilicity(N)?\")\n",
    "\n",
    "process_molecules(smiles_list_input)\n",
    "get_molecules(smiles_list_input)"
   ]
  },
  {
   "cell_type": "code",
   "execution_count": null,
   "id": "7d67c173-2e89-4d12-b887-be0a2d930f7a",
   "metadata": {},
   "outputs": [],
   "source": [
    "CC=O, CC(=O)C, O=COC, CN(C)C(C)=O"
   ]
  },
  {
   "cell_type": "code",
   "execution_count": null,
   "id": "becbe50f-54ea-409d-b7d7-18068eb54350",
   "metadata": {},
   "outputs": [],
   "source": [
    "CNO, CNC, CN, Nc1ccccc1"
   ]
  }
 ],
 "metadata": {
  "kernelspec": {
   "display_name": "Python 3 (ipykernel)",
   "language": "python",
   "name": "python3"
  },
  "language_info": {
   "codemirror_mode": {
    "name": "ipython",
    "version": 3
   },
   "file_extension": ".py",
   "mimetype": "text/x-python",
   "name": "python",
   "nbconvert_exporter": "python",
   "pygments_lexer": "ipython3",
   "version": "3.10.14"
  }
 },
 "nbformat": 4,
 "nbformat_minor": 5
}
