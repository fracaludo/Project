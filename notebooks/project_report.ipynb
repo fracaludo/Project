{
 "cells": [
  {
   "cell_type": "markdown",
   "id": "b9b1c291-8cea-4015-9a73-de3b9fe70b06",
   "metadata": {},
   "source": [
    "Project Functionality, Results and Limitations:\n",
    "\n",
    "The aim of this project was the visualisation and analysis of organic molecules. In this context, the relative reactivity of molecules and their respective active sites seemed an interesting feature to analyze.\n",
    "\n",
    "The first feature is the ranking of a list of smiles. This is achieved by transforming the smiles into an xyz file. The latter is read by read by morfeus and xtb, from where it extracts the global nucleophilicity for a list of electrophiles or global electrophilicity for a list of nucleophiles. XXXXX emma's new code RESULTS, LIMITATIONS.\n",
    "\n",
    "The second added feature is the highlighting of nucleophile and electrophile sites on a molecule. Provided with the SMILES of a molecule, the morfeus-xtb package reads the xyz file and calculates fukui indexes for every atom in the molecule storing them in a dictionnary. According to the documentation provided by Morfeus, the Fukui coefficients are determined through finite differences approach using the atomic charges from xtb. More information regarding said calculations is provided on the Morfeus Background for XTB electronic parameters (https://github.com/digital-chemistry-laboratory/morfeus.git). This being said, the results of the Fukui coefficients varied every time the code was being ran. It was therefore chosen to iterate multiple times over the same xyz file and generate multiple Fukui dictionnaries for the same molecule and finally average the values. The maximum of the average values was chosen as the most electrophilic or nucleophilic. Its index is taken and highlited on the 3D representation of the molecule. In spite of the many iterations the atom with the highest nucleophilic fukui coefficient, often appeared to be the wrong one. For instance acetaldehyde was chosen as electrophile, the provided result XXXX.\n",
    "\n",
    "Due to time constraints, it was decided to accept the code as it is, even though it may not always correctly highlight the intended atom.\n",
    "\n",
    "The highlighting error could be due to an error in the atom indexing. This is however unlikely as we tested this hypothesis multiple times and it never led to a better result. Another source of error could be the generated coordinates. Indeed, Rdkit generates different coordinates every time one runs the code. As the xyz files are generated from the coordinates, and the xtb calculations from the xyz files, the results always varied. Therefore, multiple codes were tested where N conformers were generated, then the coordinates, xyz files and xtb calculations for all atoms in all N conformers were calculated. An average Fukui for both E and N was calculated for each atom of the molecule. This should therefore give consitent E and N values. However, this method also did not give reliable and stable results.\n",
    "\n",
    "\n",
    "An interface was then created where the user is asked to input a smiles of a molecule and then choose if he/she wanted the nucleophile or electrophile site highlighted. The interface then returns the displayed 3D molecule with the previously chosen site highlighted. The highlight colour for nucleophilicity is XXX, whereas for electrophilicity it is XXX.\n",
    "....\n",
    "\n",
    "\n"
   ]
  },
  {
   "cell_type": "markdown",
   "id": "283755c7-d907-4309-b5ab-997b05d9c9c1",
   "metadata": {},
   "source": [
    "Challenges:\n",
    "\n",
    "While working on this project we faced many challenges.\n",
    "\n",
    "Firstly, installing xtb-python was more challenging than it should have been. Indeed, we discovered after many installation tries with the assistants that xtb-python is only available for Apple and Linux. However, we both have Windows. Hence, Linux had to be installed on both our computers, which was not a very straightforward process. Then understanding how Linux worked and trying to link it to our windows files was also not that easy. (Ludovica's computer literally crashed due to the size of Linux.)\n",
    "\n",
    "Then, the coding started. The randomness of the XTB results ...\n",
    "\n",
    "Finally the correct highlighting of the E and N sites ..."
   ]
  }
 ],
 "metadata": {
  "kernelspec": {
   "display_name": "Python 3 (ipykernel)",
   "language": "python",
   "name": "python3"
  },
  "language_info": {
   "codemirror_mode": {
    "name": "ipython",
    "version": 3
   },
   "file_extension": ".py",
   "mimetype": "text/x-python",
   "name": "python",
   "nbconvert_exporter": "python",
   "pygments_lexer": "ipython3",
   "version": "3.10.14"
  }
 },
 "nbformat": 4,
 "nbformat_minor": 5
}
