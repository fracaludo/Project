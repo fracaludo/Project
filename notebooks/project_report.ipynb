{
 "cells": [
  {
   "cell_type": "markdown",
   "id": "b9b1c291-8cea-4015-9a73-de3b9fe70b06",
   "metadata": {},
   "source": [
    "Project Functionality, Results and Limitations:\n",
    "\n",
    "The aim of this project was the visulaization and analysis of molecules...."
   ]
  },
  {
   "cell_type": "markdown",
   "id": "283755c7-d907-4309-b5ab-997b05d9c9c1",
   "metadata": {},
   "source": [
    "Challenges:\n",
    "While working on this project we faced many challenges:\n",
    "1. Installation of XTB on windows -----> Installation of Linux\n",
    "2. Understanding how Linux works and linking it to our windows files\n",
    "3. Randomnes of XTB results\n",
    "4. "
   ]
  }
 ],
 "metadata": {
  "kernelspec": {
   "display_name": "Python 3 (ipykernel)",
   "language": "python",
   "name": "python3"
  },
  "language_info": {
   "codemirror_mode": {
    "name": "ipython",
    "version": 3
   },
   "file_extension": ".py",
   "mimetype": "text/x-python",
   "name": "python",
   "nbconvert_exporter": "python",
   "pygments_lexer": "ipython3",
   "version": "3.10.14"
  }
 },
 "nbformat": 4,
 "nbformat_minor": 5
}
