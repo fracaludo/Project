{
 "cells": [
  {
   "cell_type": "markdown",
   "id": "03207241-b667-487b-ae58-c0f51d3ea8ac",
   "metadata": {},
   "source": [
    "# 1. Introduction:\n",
    "\n",
    "The aim of this project was the visualisation and analysis of organic molecules. In this context, the relative reactivity of molecules and their respective active sites seemed an interesting feature to analyze. Electrophilicity and nucleophilicity are fundamental concepts in organic chemistry that describe the reactivity of molecules. Electrophilicity refers to the ability of a molecule or ion to accept an electron pair, making it an electron-loving species (electrophile). Electrophiles typically have a positive charge, partial positive charge, or an electron-deficient atom, making them attracted to electron-rich regions. On the other hand, nucleophilicity describes the ability of a molecule or ion to donate an electron pair, making it an electron-rich species (nucleophile). Nucleophiles are usually negatively charged or have lone pairs of electrons, such as anions, amines, and alcohols. The interaction between nucleophiles and electrophiles drives many chemical reactions, particularly in organic synthesis, where nucleophiles attack electrophiles to form new bonds. "
   ]
  },
  {
   "cell_type": "markdown",
   "id": "b9b1c291-8cea-4015-9a73-de3b9fe70b06",
   "metadata": {},
   "source": [
    "# 2. Project Functionality, Results and Limitations:\n",
    "\n",
    "## Ranking\n",
    "\n",
    "### Functionality and Results\n",
    "\n",
    "The first feature is the ranking of a list of smiles. This is achieved by transforming the smiles into an xyz file format. The latter is read by rdkit wich generates 3D coordinates in an XYZ file. The global descriptors (nucleophilicity or electrophilicity)  are extractd for the given molecules and given descriptor (E or N). The molecules are then ranked in order of decreasing reactivity. The calculations are performed multiple times to average the result. The global descriptors generated form morfeus for electrophilicity and nucleophilicity are calculated respectively as is follows:\n",
    "\n",
    "<div style=\"text-align: center;\">\n",
    "    <img src=\"https://raw.githubusercontent.com/fracaludo/RankChem/main/notebooks/images/glob_desc.png\" alt=\"Global Descriptors\" width =\"200\">\n",
    "</div>\n",
    "\n",
    "Where *IP* is the ionization potential and *EA* the electron affinity.\n",
    "\n",
    "Parameters:\n",
    "- Smiles input\n",
    "- E or N\n",
    "\n",
    "\n",
    "Output:\n",
    "- Ranked smiles\n",
    "- Corresponding global descriptor value"
   ]
  },
  {
   "cell_type": "code",
   "execution_count": 51,
   "id": "ebdccbdf-30d2-4d11-be69-3923d3871964",
   "metadata": {},
   "outputs": [
    {
     "ename": "ModuleNotFoundError",
     "evalue": "No module named 'RankChem'",
     "output_type": "error",
     "traceback": [
      "\u001b[0;31m---------------------------------------------------------------------------\u001b[0m",
      "\u001b[0;31mModuleNotFoundError\u001b[0m                       Traceback (most recent call last)",
      "Cell \u001b[0;32mIn[51], line 1\u001b[0m\n\u001b[0;32m----> 1\u001b[0m \u001b[38;5;28;01mimport\u001b[39;00m \u001b[38;5;21;01mRankChem\u001b[39;00m\n\u001b[1;32m      3\u001b[0m smiles_list \u001b[38;5;241m=\u001b[39m [\u001b[38;5;124m\"\u001b[39m\u001b[38;5;124mCC=O\u001b[39m\u001b[38;5;124m\"\u001b[39m, \u001b[38;5;124m\"\u001b[39m\u001b[38;5;124mCC(=O)C\u001b[39m\u001b[38;5;124m\"\u001b[39m, \u001b[38;5;124m\"\u001b[39m\u001b[38;5;124mO=COC\u001b[39m\u001b[38;5;124m\"\u001b[39m, \u001b[38;5;124m\"\u001b[39m\u001b[38;5;124mCN(C)C(C)=O\u001b[39m\u001b[38;5;124m\"\u001b[39m]\n\u001b[1;32m      5\u001b[0m \u001b[38;5;66;03m# Choose the descriptor type: 'N' for nucleophilicity, 'E' for electrophilicity\u001b[39;00m\n",
      "\u001b[0;31mModuleNotFoundError\u001b[0m: No module named 'RankChem'"
     ]
    }
   ],
   "source": [
    "import RankChem\n",
    "\n",
    "smiles_list = [\"CC=O\", \"CC(=O)C\", \"O=COC\", \"CN(C)C(C)=O\"]\n",
    "\n",
    "# Choose the descriptor type: 'N' for nucleophilicity, 'E' for electrophilicity\n",
    "descriptor_type = 'E'  # or 'E'\n",
    "\n",
    "# Define the number of iterations for averaging the descriptor values\n",
    "iterations = 10\n",
    "\n",
    "# Calculate the descriptors for the list of SMILES strings\n",
    "descriptors = RC.calculate_descriptor(smiles_list, descriptor_type, iterations)\n",
    "\n",
    "# Rank the molecules based on their descriptor values\n",
    "ranked_descriptors = RC.rank_descriptors(descriptors)\n",
    "\n",
    "# Print the ranked list of molecules\n",
    "print(\"Ranked list of molecules based on their descriptors:\")\n",
    "for smiles, descriptor in ranked_descriptors:\n",
    "    print(f\"{smiles}: {descriptor}\")\n"
   ]
  },
  {
   "cell_type": "markdown",
   "id": "949a3dd4-2dea-4209-a2db-bdd401a209c8",
   "metadata": {},
   "source": [
    "### Limitations\n",
    "\n",
    "The Ranking feature is often wrong. Indeed, the ranking yields different results when processing the same SMILES input multiple times. Several factors may contribute to this unreliability. The main hypothesis is that the global descriptor calculations generated by morfeus or XTB-python are wrong, which is however very unlikely as they are widely used and should be reliable. Additionally, coordinate problems arise due to RDKit using different bases for each molecule, making direct comparisons challenging and potentially inaccurate. Moreover, as all molecules have different conformers, varying conformers may lead to different descriptor values and hence, inconsistent rankings.\n",
    "\n",
    "\n",
    "Due to time constraints, it was decided to accept the code as it is, even though it may not always return the correct ranking."
   ]
  },
  {
   "cell_type": "markdown",
   "id": "e7fe1a6a-05d8-4298-8668-a0314f2fd4f8",
   "metadata": {},
   "source": [
    "## Highlighting\n",
    "\n",
    "### Functionality and Results\n",
    "The second added feature is the highlighting of nucleophile and electrophile sites on a molecule. Provided with the SMILES of a molecule, the morfeus-xtb package reads the xyz file and calculates fukui indexes for every atom in the molecule storing them in a dictionnary. According to the documentation provided by Morfeus, the Fukui coefficients are determined through finite differences approach using the atomic charges from xtb. More information regarding said calculations is provided on the Morfeus Background for XTB electronic parameters (https://github.com/digital-chemistry-laboratory/morfeus.git). This being said, the results of the Fukui coefficients varied every time the code was being ran. It was therefore chosen to iterate multiple times over the same xyz file and generate multiple Fukui dictionnaries for the same molecule and finally average the values. The maximum of the average values was chosen as the most electrophilic or nucleophilic. Its index is taken and highlited on the 3D representation of the molecule. In spite of the many iterations the atom with the highest nucleophilic fukui coefficient, often appeared to be the wrong one. For instance acetaldehyde was chosen as electrophile, the provided result XXXX.\n",
    "Parameters:\n",
    "XXX\n",
    "Output:\n",
    "- 3D interactive visulaization with highlighted site\n",
    "- Fukui average values for all atoms\n",
    "- Highest average Fukui value"
   ]
  },
  {
   "cell_type": "code",
   "execution_count": null,
   "id": "791b7baa-ead3-44a2-ba33-29d380656c9c",
   "metadata": {},
   "outputs": [],
   "source": [
    "from ...."
   ]
  },
  {
   "cell_type": "markdown",
   "id": "327a5358-c7c5-46df-a320-b10dc8382e9e",
   "metadata": {},
   "source": [
    "### Limitations\n",
    "\n",
    "Again, the highlighting feature does not correctly highlight the right sites. When asking for the N site, it usually gives back the correct N site (although not always). However, when asking for the E site, it nearly always returns the N site highlighted, which is bizarre. When controlling the fukui values for all the atoms, the atom with the highest fukui E value is often as well the atom with the highest fukui N value. The indexing should therefore be correct and one can assume that XTB and morfeus are unreliable.\n",
    "Another source of error could be the generated coordinates. Indeed, Rdkit generates different coordinates every time one runs the code. As the xyz files are generated from the coordinates, and the xtb calculations from the xyz files, the results always varied. Therefore, multiple codes were tested where N different conformers were generated. Then, the coordinates, xyz files and xtb calculations for all atoms in all N conformers were calculated. An average Fukui for both E and N was calculated for each atom of the molecule. This should have given consistent E and N values. However, this method also did not give reliable and stable results.\n",
    "The most probable explanation for the highlighting errors is that something is not working correctly in the Morfeus or XTB packages. This, however, means that the issue with our code is out of our hands. One could contact the package authors for further information about this.\n",
    "Again, due to time constraints, it was decided to accept the code as it is, despite it not always correctly highlighting the intended atom.\n"
   ]
  },
  {
   "cell_type": "markdown",
   "id": "283755c7-d907-4309-b5ab-997b05d9c9c1",
   "metadata": {},
   "source": [
    "# Challenges\n",
    "\n",
    "While working on this project we faced many problems.\n",
    "\n",
    "Firstly, installing xtb-python was more challenging than it should have been. Indeed, we discovered after many installation tries with the assistants that xtb-python is only available for Apple and Linux. However, we both have Windows. Hence, Linux had to be installed on both our computers, which was not a very straightforward process. Then understanding how Linux worked and trying to link it to our windows files was also not that easy. (Ludovica's computer literally crashed due to the size of Linux.)\n",
    "\n",
    "Then, the coding started. The randomness of the XTB results ...\n",
    "\n",
    "Finally the correct highlighting of the E and N sites ..."
   ]
  },
  {
   "cell_type": "markdown",
   "id": "33b21fa0-03e4-472d-9c25-7ff399396f29",
   "metadata": {},
   "source": [
    "Bibliography:\n",
    "\n",
    "Nápoles-Duarte JM, Biswas A, Parker MI, Palomares-Baez JP, Chávez-Rojo MA and Rodríguez-Valdez LM (2022) Stmol: A component for building interactive molecular visualizations within streamlit web-applications. Front. Mol. Biosci. 9:990846. doi: 10.3389/fmolb.2022.990846"
   ]
  },
  {
   "cell_type": "markdown",
   "id": "3ba8f085-7433-4126-bc22-2c210f04600a",
   "metadata": {},
   "source": [
    "\n",
    "\n",
    "Due to time constraints, it was decided to accept the code as it is, even though it may not always correctly highlight the intended atom.\n",
    "\n",
    "The highlighting error could be due to an error in the atom indexing. This is however unlikely as we tested this hypothesis multiple times and it never led to a better result. Another source of error could be the generated coordinates. Indeed, Rdkit generates different coordinates every time one runs the code. As the xyz files are generated from the coordinates, and the xtb calculations from the xyz files, the results always varied. Therefore, multiple codes were tested where N conformers were generated, then the coordinates, xyz files and xtb calculations for all atoms in all N conformers were calculated. An average Fukui for both E and N was calculated for each atom of the molecule. This should therefore give consitent E and N values. However, this method also did not give reliable and stable results.\n",
    "\n",
    "\n",
    "The last possible explanation for the ranking and highlighting errors is that something is not working correctly in the Morfeus or XTB packages. This, however, means that the issue with our code is out of our hands. One could contact the package authors for further information about this.\n",
    "\n",
    "\n",
    "An interface was then created where the user is asked to input a smiles of a molecule and then choose if he/she wanted the nucleophile or electrophile site highlighted. The number of iterations can be chosen and the visualization style chosen. The interface then returns the displayed 3D molecule with the previously chosen site highlighted (E or N). The sidebar of the interface also contains links to our repository and useful documentation."
   ]
  }
 ],
 "metadata": {
  "kernelspec": {
   "display_name": "Python 3 (ipykernel)",
   "language": "python",
   "name": "python3"
  },
  "language_info": {
   "codemirror_mode": {
    "name": "ipython",
    "version": 3
   },
   "file_extension": ".py",
   "mimetype": "text/x-python",
   "name": "python",
   "nbconvert_exporter": "python",
   "pygments_lexer": "ipython3",
   "version": "3.10.13"
  }
 },
 "nbformat": 4,
 "nbformat_minor": 5
}
