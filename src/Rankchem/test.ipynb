{
 "cells": [
  {
   "cell_type": "code",
   "execution_count": 3,
   "id": "1ac5cee8-9761-4a70-9845-29866f3baae1",
   "metadata": {},
   "outputs": [
    {
     "name": "stdin",
     "output_type": "stream",
     "text": [
      "Enter a list of SMILES strings separated by commas:  CNO, CNC, CN, Nc1ccccc1\n",
      "Should we be ranking according to electrophilicity(E) or nucleophilicity(N)? N\n"
     ]
    },
    {
     "name": "stdout",
     "output_type": "stream",
     "text": [
      "CNO: 0.2230633401343008\n",
      "CNC: 0.22796323876850777\n",
      "CN: 0.2575414853755686\n",
      "Nc1ccccc1: 0.10114783055577989\n"
     ]
    }
   ],
   "source": [
    "from rdkit import Chem\n",
    "from rdkit.Chem import AllChem, rdDistGeom\n",
    "from morfeus import read_xyz, XTB\n",
    "import numpy as np\n",
    "\n",
    "def mol_to_xyz(smiles_list, N):\n",
    "    results = []\n",
    "    \n",
    "    for smiles in smiles_list:\n",
    "        mol = Chem.MolFromSmiles(smiles)\n",
    "        mol = Chem.AddHs(mol)\n",
    "        \n",
    "        params = rdDistGeom.ETKDG()\n",
    "        params.numThreads = 0\n",
    "        AllChem.EmbedMultipleConfs(mol, numConfs=N, params=params)\n",
    "        \n",
    "        for conf_id in range(mol.GetNumConformers()):\n",
    "            num_atoms = mol.GetNumAtoms()\n",
    "            xyz_lines = [str(num_atoms)]\n",
    "            xyz_lines.append(smiles)\n",
    "            conf = mol.GetConformer(conf_id)\n",
    "            for atom in mol.GetAtoms():\n",
    "                symbol = atom.GetSymbol()\n",
    "                pos = conf.GetAtomPosition(atom.GetIdx())\n",
    "                xyz_lines.append(f\"{symbol} {pos.x:.4f} {pos.y:.4f} {pos.z:.4f}\")\n",
    "            \n",
    "            results.append(\"\\n\".join(xyz_lines))\n",
    "\n",
    "    return results\n",
    "\n",
    "def get_molecules(smiles_list, N):\n",
    "    xyz_contents = mol_to_xyz(smiles_list, N)\n",
    "    avg_fukui_electrophilicity = {}\n",
    "    avg_fukui_nucleophilicity = {}\n",
    "\n",
    "    for smiles in smiles_list:\n",
    "        fukui_electrophilicity = []\n",
    "        fukui_nucleophilicity = []\n",
    "\n",
    "        conformer_xyz_contents = xyz_contents[:N]\n",
    "        xyz_contents = xyz_contents[N:]\n",
    "\n",
    "        for xyz_content in conformer_xyz_contents:\n",
    "            xyz_file = f\"temp.xyz\"\n",
    "            with open(xyz_file, 'w') as file:\n",
    "                file.write(xyz_content)\n",
    "            \n",
    "            elements, coordinates = read_xyz(xyz_file)\n",
    "            xtb = XTB(elements, coordinates)\n",
    "            \n",
    "            fukui_electrophilicity.append(xtb.get_fukui(\"electrophilicity\"))\n",
    "            fukui_nucleophilicity.append(xtb.get_fukui(\"nucleophilicity\"))\n",
    "\n",
    "        avg_electrophilicity = {atom_idx: np.mean([conf[atom_idx] for conf in fukui_electrophilicity]) \n",
    "                                for atom_idx in fukui_electrophilicity[0].keys()}\n",
    "        avg_nucleophilicity = {atom_idx: np.mean([conf[atom_idx] for conf in fukui_nucleophilicity]) \n",
    "                               for atom_idx in fukui_nucleophilicity[0].keys()}\n",
    "\n",
    "        avg_fukui_electrophilicity[smiles] = avg_electrophilicity\n",
    "        avg_fukui_nucleophilicity[smiles] = avg_nucleophilicity\n",
    "\n",
    "    if nucl_elec == \"E\":\n",
    "        for smiles, values in avg_fukui_nucleophilicity.items():\n",
    "            max_value = max(values.values())\n",
    "            print(f\"{smiles}: {max_value}\")\n",
    "    else:\n",
    "        for smiles, values in avg_fukui_electrophilicity.items():\n",
    "            max_value = max(values.values())\n",
    "            print(f\"{smiles}: {max_value}\")\n",
    "\n",
    "user_input = input(\"Enter a list of SMILES strings separated by commas: \")\n",
    "smiles_list_input = user_input.split(',')\n",
    "smiles_list_input = [smiles.strip() for smiles in smiles_list_input]\n",
    "\n",
    "nucl_elec = input(\"Should we be ranking according to electrophilicity(E) or nucleophilicity(N)?\")\n",
    "\n",
    "get_molecules(smiles_list_input, 10) # Adjust N as needed\n"
   ]
  },
  {
   "cell_type": "code",
   "execution_count": null,
   "id": "42f6b49a-a2ac-4cd6-b44c-e5b5439f9755",
   "metadata": {},
   "outputs": [],
   "source": []
  }
 ],
 "metadata": {
  "kernelspec": {
   "display_name": "Python 3 (ipykernel)",
   "language": "python",
   "name": "python3"
  },
  "language_info": {
   "codemirror_mode": {
    "name": "ipython",
    "version": 3
   },
   "file_extension": ".py",
   "mimetype": "text/x-python",
   "name": "python",
   "nbconvert_exporter": "python",
   "pygments_lexer": "ipython3",
   "version": "3.10.14"
  }
 },
 "nbformat": 4,
 "nbformat_minor": 5
}
