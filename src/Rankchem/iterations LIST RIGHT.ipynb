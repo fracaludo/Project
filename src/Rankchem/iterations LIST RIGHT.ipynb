{
 "cells": [
  {
   "cell_type": "code",
   "execution_count": 4,
   "id": "b873aab8-08e7-4d91-b9be-f6ed6c4d4d92",
   "metadata": {},
   "outputs": [],
   "source": [
    "from rdkit import Chem\n",
    "from rdkit.Chem import AllChem, rdDistGeom\n",
    "\n",
    "def mol_to_xyz(smiles_list):\n",
    "    results = [] \n",
    "    \n",
    "    # Iterate over each SMILES string in the list\n",
    "    for smiles in smiles_list:\n",
    "        # SMILES to RDKit\n",
    "        mol = Chem.MolFromSmiles(smiles)\n",
    "        mol = Chem.AddHs(mol)\n",
    "        AllChem.EmbedMolecule(mol, rdDistGeom.ETKDG()) # 3D coordinates \n",
    "        num_atoms = mol.GetNumAtoms() # RDKit XYZ string\n",
    "        xyz_lines = [str(num_atoms)]\n",
    "        xyz_lines.append(smiles)\n",
    "        for atom in mol.GetAtoms():\n",
    "            symbol = atom.GetSymbol()\n",
    "            conf = mol.GetConformer()\n",
    "            pos = conf.GetAtomPosition(atom.GetIdx())\n",
    "            xyz_lines.append(f\"{symbol} {pos.x:.4f} {pos.y:.4f} {pos.z:.4f}\")\n",
    "        \n",
    "        # Append the XYZ to results list\n",
    "        results.append(\"\\n\".join(xyz_lines))\n",
    "\n",
    "    return results\n"
   ]
  },
  {
   "cell_type": "code",
   "execution_count": 5,
   "id": "f1620b6a-0db7-49f3-afe0-51538cbb9c0a",
   "metadata": {},
   "outputs": [],
   "source": [
    "from rdkit import Chem\n",
    "from rdkit.Chem import AllChem, rdDistGeom\n",
    "from morfeus import read_xyz, XTB\n",
    "\n",
    "def get_molecules(smiles_list, N):\n",
    "    xyz_contents = mol_to_xyz(smiles_list)# SMILES list to XYZ \n",
    "    n_nucs_max = []\n",
    "    n_eles_max = []\n",
    "    for i, xyz_content in enumerate(xyz_contents):\n",
    "        fukui_electrophilicity = []\n",
    "        fukui_nucleophilicity = []\n",
    "        for _ in range(N):\n",
    "            xyz_file = f\"molecule_{i}.xyz\"  # XYZ to a file\n",
    "            with open(xyz_file, 'w') as file:\n",
    "                file.write(xyz_content)\n",
    "            \n",
    "            elements, coordinates = read_xyz(xyz_file) # Morfeus to read XYZ file\n",
    "            \n",
    "            xtb = XTB(elements, coordinates) # Create  XTB object \n",
    "            \n",
    "            fukui_electrophilicity.append(xtb.get_fukui(\"electrophilicity\"))\n",
    "            fukui_nucleophilicity.append(xtb.get_fukui(\"nucleophilicity\"))\n",
    "\n",
    "        # Fukui electrophilicity max value\n",
    "        max_values_electrophilicity = [max(f.values()) for f in fukui_electrophilicity]\n",
    "        n_eles_max.append(sum(max_values_electrophilicity) / len(max_values_electrophilicity))\n",
    "\n",
    "        # Fukui nucleophilicity max value\n",
    "        max_values_nucleophilicity = [max(f.values()) for f in fukui_nucleophilicity]\n",
    "        n_nucs_max.append(sum(max_values_nucleophilicity) / len(max_values_nucleophilicity))\n",
    "\n",
    "    n_eles_max = dict(zip(smiles_list, n_eles_max))\n",
    "    n_nucs_max = dict(zip(smiles_list, n_nucs_max))\n",
    "\n",
    "    if nucl_elec == \"E\":\n",
    "        print(n_nucs_max) #nucleophilicity max values\n",
    "    else:\n",
    "        print(n_eles_max) #electrophilicity max values"
   ]
  },
  {
   "cell_type": "code",
   "execution_count": null,
   "id": "03633ef4-9801-40fa-a3be-8658b9697277",
   "metadata": {},
   "outputs": [],
   "source": [
    "user_input = input(\"Enter a list of SMILES strings separated by commas: \")\n",
    "smiles_list_input = user_input.split(',')\n",
    "smiles_list_input = [smiles.strip() for smiles in smiles_list_input]\n",
    "\n",
    "nucl_elec = input(\"Should we be ranking according to electrophilicity(E) or nucleophilicity(N)?\")\n",
    "\n",
    "get_molecules(smiles_list_input, 400)"
   ]
  },
  {
   "cell_type": "code",
   "execution_count": null,
   "id": "889c8153-4f9c-4d75-88bf-252e108d25a0",
   "metadata": {},
   "outputs": [],
   "source": [
    "CNO, CNC, CN, Nc1ccccc1"
   ]
  },
  {
   "cell_type": "code",
   "execution_count": null,
   "id": "3eab756b-2eca-4fa4-aca2-c1b939c074d6",
   "metadata": {},
   "outputs": [],
   "source": [
    " CC=O, CC(=O)C, O=COC, CN(C)C(C)=O"
   ]
  }
 ],
 "metadata": {
  "kernelspec": {
   "display_name": "Python 3 (ipykernel)",
   "language": "python",
   "name": "python3"
  },
  "language_info": {
   "codemirror_mode": {
    "name": "ipython",
    "version": 3
   },
   "file_extension": ".py",
   "mimetype": "text/x-python",
   "name": "python",
   "nbconvert_exporter": "python",
   "pygments_lexer": "ipython3",
   "version": "3.10.14"
  }
 },
 "nbformat": 4,
 "nbformat_minor": 5
}
