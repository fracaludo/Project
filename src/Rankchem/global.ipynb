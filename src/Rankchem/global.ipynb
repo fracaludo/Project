{
 "cells": [
  {
   "cell_type": "code",
   "execution_count": 8,
   "id": "65cfec32-cb82-4ff9-8844-69bc5a3e078e",
   "metadata": {},
   "outputs": [
    {
     "name": "stdin",
     "output_type": "stream",
     "text": [
      "Enter a list of SMILES strings separated by commas:  CNO, CNC, CN, Nc1ccccc1\n"
     ]
    },
    {
     "name": "stdout",
     "output_type": "stream",
     "text": [
      "Ranked Molecules based on average global descriptor (electrophilicity)\n",
      "1. Nc1ccccc1 - Average Electrophilicity: 0.4233115448192623\n",
      "2. CNC - Average Electrophilicity: 0.007995701288634752\n",
      "3. CNO - Average Electrophilicity: 0.002327335853380086\n",
      "4. CN - Average Electrophilicity: 0.0008408780219761817\n"
     ]
    }
   ],
   "source": [
    "from rdkit import Chem\n",
    "from rdkit.Chem import AllChem, rdDistGeom\n",
    "from morfeus import XTB\n",
    "import numpy as np\n",
    "\n",
    "def get_molecules(smiles_list):\n",
    "    molecule_descriptors = []\n",
    "    for smiles in smiles_list:\n",
    "        mol = Chem.MolFromSmiles(smiles)\n",
    "        mol = Chem.AddHs(mol)\n",
    "        \n",
    "        params = rdDistGeom.ETKDG()\n",
    "        params.numThreads = 0\n",
    "        AllChem.EmbedMultipleConfs(mol, numConfs=10, params=params)\n",
    "        \n",
    "        descriptor_sum = 0\n",
    "        for conf_id in range(mol.GetNumConformers()):\n",
    "            # Call xTB to calculate electrophilicity for the conformer\n",
    "            electrophilicity = calculate_xtb_property(mol, conf_id, \"electrophilicity\")\n",
    "            descriptor_sum += electrophilicity\n",
    "        \n",
    "        # Average\n",
    "        molecule_descriptors.append((smiles, descriptor_sum / mol.GetNumConformers()))\n",
    "    \n",
    "    # Ranking\n",
    "    molecule_descriptors.sort(key=lambda x: x[1], reverse=True)\n",
    "    return molecule_descriptors\n",
    "\n",
    "def calculate_xtb_property(mol, conf_id, property_type):\n",
    "    num_atoms = mol.GetNumAtoms()\n",
    "    xyz_lines = [str(num_atoms)]\n",
    "    xyz_lines.append(Chem.MolToSmiles(mol))\n",
    "    conf = mol.GetConformer(conf_id)\n",
    "    for atom in mol.GetAtoms():\n",
    "        symbol = atom.GetSymbol()\n",
    "        pos = conf.GetAtomPosition(atom.GetIdx())\n",
    "        xyz_lines.append(f\"{symbol} {pos.x:.4f} {pos.y:.4f} {pos.z:.4f}\")\n",
    "    xyz_data = \"\\n\".join(xyz_lines)\n",
    "    \n",
    "    xtb = XTB(elements=[atom.GetSymbol() for atom in mol.GetAtoms()], \n",
    "               coordinates=np.array([conf.GetAtomPosition(i) for i in range(num_atoms)]))\n",
    "    if property_type == \"electrophilicity\":\n",
    "        property_value = xtb.get_global_descriptor(\"electrophilicity\", corrected=True)\n",
    "    elif property_type == \"nucleophilicity\":\n",
    "        property_value = xtb.get_global_descriptor(\"nucleophilicity\", corrected=True)\n",
    "    return property_value\n",
    "\n",
    "if __name__ == \"__main__\":\n",
    "    user_input = input(\"Enter a list of SMILES strings separated by commas: \")\n",
    "    smiles_list_input = user_input.split(',')\n",
    "    smiles_list_input = [smiles.strip() for smiles in smiles_list_input]\n",
    "\n",
    "    ranked_molecules = get_molecules(smiles_list_input)\n",
    "\n",
    "\n",
    "    print(\"Ranked Molecules based on average global descriptor (electrophilicity)\")\n",
    "    for i, (molecule, descriptor) in enumerate(ranked_molecules, start=1):\n",
    "        print(f\"{i}. {molecule} - Average Electrophilicity: {descriptor}\")\n"
   ]
  },
  {
   "cell_type": "code",
   "execution_count": null,
   "id": "1fdd03ce-a87d-4f2e-b426-81e7c78be3d9",
   "metadata": {},
   "outputs": [],
   "source": []
  }
 ],
 "metadata": {
  "kernelspec": {
   "display_name": "Python 3 (ipykernel)",
   "language": "python",
   "name": "python3"
  },
  "language_info": {
   "codemirror_mode": {
    "name": "ipython",
    "version": 3
   },
   "file_extension": ".py",
   "mimetype": "text/x-python",
   "name": "python",
   "nbconvert_exporter": "python",
   "pygments_lexer": "ipython3",
   "version": "3.10.14"
  }
 },
 "nbformat": 4,
 "nbformat_minor": 5
}
